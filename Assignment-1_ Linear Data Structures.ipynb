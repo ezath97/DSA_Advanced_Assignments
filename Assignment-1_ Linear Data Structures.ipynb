{
 "cells": [
  {
   "cell_type": "code",
   "execution_count": 1,
   "id": "ca2e3589",
   "metadata": {},
   "outputs": [
    {
     "name": "stdout",
     "output_type": "stream",
     "text": [
      "Output: \n",
      "3 -> -2 -> 5 -> 4 -> None\n"
     ]
    }
   ],
   "source": [
    "# Q1. Delete the elements in an linked list whose sum is equal to zero\n",
    "\n",
    "class Node:\n",
    "    def __init__(self, data):\n",
    "        self.data = data\n",
    "        self.next = None\n",
    "def delete_zero_sum_nodes(head):\n",
    "    dummy = Node(0)\n",
    "    dummy.next = head\n",
    "    curr = dummy\n",
    "    running_sum = 0\n",
    "    sum_map = {}\n",
    "    while curr:\n",
    "        running_sum += curr.data\n",
    "        if running_sum == 0:\n",
    "            dummy.next = curr.next\n",
    "            sum_map = {}\n",
    "        elif running_sum in sum_map:\n",
    "            prev = sum_map[running_sum].next\n",
    "            prev_sum = running_sum + prev.data\n",
    "            while prev != curr:\n",
    "                sum_map.pop(prev_sum)\n",
    "                prev = prev.next\n",
    "                prev_sum += prev.data\n",
    "            sum_map[running_sum].next = curr.next\n",
    "        else:\n",
    "            sum_map[running_sum] = curr\n",
    "        curr = curr.next\n",
    "    return dummy.next\n",
    "def print_linked_list(head):\n",
    "    curr = head\n",
    "    while curr:\n",
    "        print(curr.data, end=\" -> \")\n",
    "        curr = curr.next\n",
    "    print(\"None\")\n",
    "\n",
    "\n",
    "# Sample Input\n",
    "head = Node(1)\n",
    "head.next = Node(2)\n",
    "head.next.next = Node(-3)\n",
    "head.next.next.next = Node(3)\n",
    "head.next.next.next.next = Node(-2)\n",
    "head.next.next.next.next.next = Node(5)\n",
    "head.next.next.next.next.next.next = Node(4)\n",
    "\n",
    "new_head = delete_zero_sum_nodes(head)\n",
    "# Expected Output: 3 -> -2 -> 5 -> 4 -> None\n",
    "print(\"Output: \")\n",
    "print_linked_list(new_head)\n"
   ]
  },
  {
   "cell_type": "code",
   "execution_count": 2,
   "id": "065a13c0",
   "metadata": {},
   "outputs": [
    {
     "name": "stdout",
     "output_type": "stream",
     "text": [
      "Output:\n",
      "2 1 4 3 6 5 \n"
     ]
    }
   ],
   "source": [
    "# Q2. Reverse a linked list in groups of given size\n",
    "\n",
    "class Node:\n",
    "    def __init__(self, data=None):\n",
    "        self.data = data\n",
    "        self.next = None\n",
    "\n",
    "def reverse_linked_list(head, k):\n",
    "    current = head\n",
    "    next = None\n",
    "    prev = None\n",
    "    count = 0\n",
    "    while current and count < k:\n",
    "        next = current.next\n",
    "        current.next = prev\n",
    "        prev = current\n",
    "        current = next\n",
    "        count += 1\n",
    "    if next:\n",
    "        head.next = reverse_linked_list(next, k)\n",
    "    return prev\n",
    "def print_linked_list(head):\n",
    "    current = head\n",
    "    print(\"Output:\")\n",
    "    while current:\n",
    "        print(current.data, end=\" \")\n",
    "        current = current.next\n",
    "    print()\n",
    "\n",
    "# Sample input: 1 -> 2 -> 3 -> 4 -> 5 -> 6 -> None\n",
    "# groups of size 2\n",
    "# Expected Output: 2 -> 1 -> 4 -> 3 -> 6 -> 5\n",
    "\n",
    "head = Node(1)\n",
    "head.next = Node(2)\n",
    "head.next.next = Node(3)\n",
    "head.next.next.next = Node(4)\n",
    "head.next.next.next.next = Node(5)\n",
    "head.next.next.next.next.next = Node(6)\n",
    "\n",
    "k = 2\n",
    "reversed_head = reverse_linked_list(head, k)\n",
    "\n",
    "print_linked_list(reversed_head)\n"
   ]
  },
  {
   "cell_type": "code",
   "execution_count": 3,
   "id": "7a0765d4",
   "metadata": {},
   "outputs": [
    {
     "name": "stdout",
     "output_type": "stream",
     "text": [
      "Output:\n",
      "1 2 3 4 5 6 7 "
     ]
    }
   ],
   "source": [
    "# Q3. Merge a linked list into another linked list at alternate positions.\n",
    "\n",
    "class Node:\n",
    "    def __init__(self, data=None):\n",
    "        self.data = data\n",
    "        self.next = None\n",
    "\n",
    "def merge_lists(head1, head2):\n",
    "    dummy = Node(0)\n",
    "    curr = dummy\n",
    "    while head1 and head2:\n",
    "        curr.next = head1\n",
    "        head1 = head1.next\n",
    "        curr = curr.next\n",
    "        \n",
    "        curr.next = head2\n",
    "        head2 = head2.next\n",
    "        curr = curr.next\n",
    "    if head1:\n",
    "        curr.next = head1\n",
    "    elif head2:\n",
    "        curr.next = head2\n",
    "    return dummy.next\n",
    "\n",
    "# Sample input list 1: 1 -> 3 -> 5 -> 7\n",
    "# Sample input list 2: 2 -> 4 -> 6\n",
    "# Expected Output: 1 -> 2 -> 3 -> 4 -> 5 -> 6 -> 7\n",
    "\n",
    "head1 = Node(1)\n",
    "head1.next = Node(3)\n",
    "head1.next.next = Node(5)\n",
    "head1.next.next.next = Node(7)\n",
    "\n",
    "head2 = Node(2)\n",
    "head2.next = Node(4)\n",
    "head2.next.next = Node(6)\n",
    "\n",
    "merged_head = merge_lists(head1, head2)\n",
    "\n",
    "current = merged_head\n",
    "print(\"Output:\")\n",
    "while current:\n",
    "    print(current.data, end=\" \")\n",
    "    current = current.next\n"
   ]
  },
  {
   "cell_type": "code",
   "execution_count": 4,
   "id": "9a8b6a3c",
   "metadata": {},
   "outputs": [
    {
     "name": "stdout",
     "output_type": "stream",
     "text": [
      "Number of pairs in the array: 2\n"
     ]
    }
   ],
   "source": [
    "# Q4. In an array, Count Pairs with given sum\n",
    "\n",
    "def count_pairs_with_sum(arr, target_sum):\n",
    "    count = 0\n",
    "    seen = set()\n",
    "    for num in arr:\n",
    "        complement = target_sum - num\n",
    "        if complement in seen:\n",
    "            count += 1\n",
    "        seen.add(num)\n",
    "    return count\n",
    "\n",
    "# Sample input: [1, 5, 7, -1, -2], target sum = 6\n",
    "# Expected Output: 2\n",
    "arr = [1, 5, 7, -1, -2]\n",
    "target_sum = 6\n",
    "\n",
    "pair_count = count_pairs_with_sum(arr, target_sum)\n",
    "print(\"Number of pairs in the array:\", pair_count)\n"
   ]
  },
  {
   "cell_type": "code",
   "execution_count": 5,
   "id": "4735257f",
   "metadata": {},
   "outputs": [
    {
     "name": "stdout",
     "output_type": "stream",
     "text": [
      "Duplicate Numbers: [3, 1, 6]\n"
     ]
    }
   ],
   "source": [
    "# Q5. Find duplicates in an array\n",
    "\n",
    "def find_duplicates(arr):\n",
    "    seen = set()\n",
    "    duplicates = []\n",
    "    for num in arr:\n",
    "        if num in seen:\n",
    "            duplicates.append(num)\n",
    "        else:\n",
    "            seen.add(num)\n",
    "    return duplicates\n",
    "\n",
    "# Sample input: [1, 2, 3, 4, 3, 5, 6, 1, 6]\n",
    "# Expected Output: [3, 1, 6]\n",
    "arr = [1, 2, 3, 4, 3, 5, 6, 1, 6]\n",
    "duplicate_nums = find_duplicates(arr)\n",
    "\n",
    "print(\"Duplicate Numbers:\", duplicate_nums)\n"
   ]
  },
  {
   "cell_type": "code",
   "execution_count": 6,
   "id": "ab313fdc",
   "metadata": {},
   "outputs": [
    {
     "name": "stdout",
     "output_type": "stream",
     "text": [
      "Kth largest number: 4\n",
      "Kth smallest number: 3\n"
     ]
    }
   ],
   "source": [
    "# Q6. Find the Kth largest and Kth smallest number in an array\n",
    "\n",
    "def find_kth_largest_smallest(nums, k):\n",
    "    sorted_nums = sorted(nums)\n",
    "    k_large = sorted_nums[-k]\n",
    "    k_small = sorted_nums[k-1]\n",
    "    return k_large, k_small\n",
    "\n",
    "# Sample input: [1, 2, 3, 4, 5, 6], K = 3\n",
    "# Expected output: k_large = 4, k_small = 3 \n",
    "nums = [1, 2, 3, 4, 5, 6]\n",
    "k = 3\n",
    "\n",
    "k_large, k_small = find_kth_largest_smallest(nums, k)\n",
    "\n",
    "print(f\"Kth largest number: {k_large}\")\n",
    "print(f\"Kth smallest number: {k_small}\")\n"
   ]
  },
  {
   "cell_type": "code",
   "execution_count": 7,
   "id": "a953ba4d",
   "metadata": {},
   "outputs": [
    {
     "name": "stdout",
     "output_type": "stream",
     "text": [
      "Output [-8, -2, -7, -5, 3, 1, 6, 4]\n"
     ]
    }
   ],
   "source": [
    "# Q7. Move all the negative elements to one side of the array\n",
    "\n",
    "def move_negative_elements(nums):\n",
    "    left = 0\n",
    "    right = len(nums) - 1\n",
    "    while left <= right:\n",
    "        while left <= right and nums[left] < 0:\n",
    "            left += 1\n",
    "        while left <= right and nums[right] >= 0:\n",
    "            right -= 1\n",
    "        if left < right:\n",
    "            nums[left], nums[right] = nums[right], nums[left]\n",
    "            left += 1\n",
    "            right -= 1\n",
    "    return nums\n",
    "\n",
    "# Sample input: [4, -2, 1, -5, 3, -7, 6, -8]\n",
    "# Expected Output [-8, -2, -7, -5, 3, 1, 6, 4]\n",
    "nums = [4, -2, 1, -5, 3, -7, 6, -8]\n",
    "\n",
    "result = move_negative_elements(nums)\n",
    "print(\"Output\",result)\n"
   ]
  },
  {
   "cell_type": "code",
   "execution_count": 8,
   "id": "eba8b751",
   "metadata": {},
   "outputs": [
    {
     "name": "stdout",
     "output_type": "stream",
     "text": [
      "Output: !dlroW ,olleH\n"
     ]
    }
   ],
   "source": [
    "# Q8. Reverse a string using a stack data structure\n",
    "\n",
    "def reverse_string(string):\n",
    "    stack = []\n",
    "    reversed_string = \"\"\n",
    "    for char in string:\n",
    "        stack.append(char)\n",
    "    while stack:\n",
    "        reversed_string += stack.pop()\n",
    "    return reversed_string\n",
    "\n",
    "# Sample input: \"Hello, World!\"\n",
    "# Expected Output: \"!dlroW ,olleH\"\n",
    "string = \"Hello, World!\"\n",
    "reversed_string = reverse_string(string)\n",
    "print(\"Output:\",reversed_string)\n"
   ]
  },
  {
   "cell_type": "code",
   "execution_count": 9,
   "id": "c0e83ab1",
   "metadata": {},
   "outputs": [
    {
     "name": "stdout",
     "output_type": "stream",
     "text": [
      "Output:  156\n"
     ]
    }
   ],
   "source": [
    "# Q9. Evaluate a postfix expression using stack\n",
    "\n",
    "def evaluate_postfix(expression):\n",
    "    stack = []\n",
    "    for char in expression:\n",
    "        if char.isdigit():\n",
    "            stack.append(int(char))\n",
    "        else:\n",
    "            operand2 = stack.pop()\n",
    "            operand1 = stack.pop()\n",
    "            if char == '+':\n",
    "                result = operand1 + operand2\n",
    "            elif char == '-':\n",
    "                result = operand1 - operand2\n",
    "            elif char == '*':\n",
    "                result = operand1 * operand2\n",
    "            elif char == '/':\n",
    "                result = operand1 / operand2\n",
    "            stack.append(result)\n",
    "    return stack.pop()\n",
    "\n",
    "# Sample input: \"57+67+*\"\n",
    "# Expected output: 156\n",
    "expression = \"57+67+*\"\n",
    "result = evaluate_postfix(expression)\n",
    "print(\"Output: \",result)\n"
   ]
  },
  {
   "cell_type": "code",
   "execution_count": 10,
   "id": "ee96017d",
   "metadata": {},
   "outputs": [
    {
     "name": "stdout",
     "output_type": "stream",
     "text": [
      "Output:  3\n"
     ]
    }
   ],
   "source": [
    "# Q10. Implement a queue using the stack data structure\n",
    "\n",
    "class Queue:\n",
    "    def __init__(self):\n",
    "        self.stack1 = []\n",
    "        self.stack2 = []        \n",
    "    def enqueue(self, item):\n",
    "        self.stack1.append(item) \n",
    "    def dequeue(self):\n",
    "        if len(self.stack2) == 0:\n",
    "            if len(self.stack1) == 0:\n",
    "                return \"Queue is empty\"\n",
    "            while len(self.stack1) > 0:\n",
    "                self.stack2.append(self.stack1.pop())\n",
    "        return self.stack2.pop()\n",
    "    def is_empty(self):\n",
    "        return len(self.stack1) == 0 and len(self.stack2) == 0\n",
    "    def size(self):\n",
    "        return len(self.stack1) + len(self.stack2)\n",
    "        \n",
    "# Sample Input\n",
    "queue = Queue()\n",
    "\n",
    "queue.enqueue(1)\n",
    "queue.enqueue(2)\n",
    "queue.enqueue(3)\n",
    "queue.enqueue(4)\n",
    "queue.enqueue(5)\n",
    "\n",
    "queue.dequeue()  # removed: 1\n",
    "queue.dequeue()  # removed: 2\n",
    "\n",
    "# Expected Output: 3\n",
    "# Get the size of the queue\n",
    "print(\"Output: \",queue.size())  \n"
   ]
  },
  {
   "cell_type": "code",
   "execution_count": null,
   "id": "673c7184",
   "metadata": {},
   "outputs": [],
   "source": []
  }
 ],
 "metadata": {
  "kernelspec": {
   "display_name": "Python 3 (ipykernel)",
   "language": "python",
   "name": "python3"
  },
  "language_info": {
   "codemirror_mode": {
    "name": "ipython",
    "version": 3
   },
   "file_extension": ".py",
   "mimetype": "text/x-python",
   "name": "python",
   "nbconvert_exporter": "python",
   "pygments_lexer": "ipython3",
   "version": "3.9.13"
  }
 },
 "nbformat": 4,
 "nbformat_minor": 5
}
