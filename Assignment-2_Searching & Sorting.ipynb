{
 "cells": [
  {
   "cell_type": "code",
   "execution_count": 1,
   "id": "6cfbceb2",
   "metadata": {},
   "outputs": [
    {
     "name": "stdout",
     "output_type": "stream",
     "text": [
      "Target found at index:  6\n"
     ]
    }
   ],
   "source": [
    "# Q1. Implement Binary Search\n",
    "\n",
    "def binary_search(arr, target):\n",
    "    left = 0\n",
    "    right = len(arr) - 1  \n",
    "    while left <= right:\n",
    "        mid = (left + right) // 2    \n",
    "        if arr[mid] == target:\n",
    "            return mid\n",
    "        elif arr[mid] < target:\n",
    "            left = mid + 1\n",
    "        else:\n",
    "            right = mid - 1\n",
    "    return -1  # Return -1 if target is not found in the array\n",
    "\n",
    "# sample Input\n",
    "arr = [2, 5, 7, 12, 15, 18, 20, 25, 30]\n",
    "target = 20\n",
    "\n",
    "index = binary_search(arr, target)\n",
    "# Expected Output: 6\n",
    "if index != -1:\n",
    "    print(\"Target found at index: \",index)\n",
    "else:\n",
    "    print(\"Target not found in the array\")\n"
   ]
  },
  {
   "cell_type": "code",
   "execution_count": 2,
   "id": "bf5c360b",
   "metadata": {},
   "outputs": [
    {
     "name": "stdout",
     "output_type": "stream",
     "text": [
      "Output:  [1, 3, 6, 7, 8, 12, 15, 19]\n"
     ]
    }
   ],
   "source": [
    "# Q2. Implement Merge Sort\n",
    "\n",
    "def merge(left, right):\n",
    "    merged = []\n",
    "    i = j = 0\n",
    "    # Merge the two halves in sorted order\n",
    "    while i < len(left) and j < len(right):\n",
    "        if left[i] <= right[j]:\n",
    "            merged.append(left[i])\n",
    "            i += 1\n",
    "        else:\n",
    "            merged.append(right[j])\n",
    "            j += 1\n",
    "    # Add the remaining elements from the left half\n",
    "    while i < len(left):\n",
    "        merged.append(left[i])\n",
    "        i += 1\n",
    "    # Add the remaining elements from the right half\n",
    "    while j < len(right):\n",
    "        merged.append(right[j])\n",
    "        j += 1\n",
    "    return merged\n",
    "\n",
    "def merge_sort(arr):\n",
    "    if len(arr) <= 1:\n",
    "        return arr\n",
    "    # Divide the array into two halves\n",
    "    mid = len(arr) // 2\n",
    "    left_half = arr[:mid]\n",
    "    right_half = arr[mid:]\n",
    "    # Recursive calls to perform merge sort on the two halves\n",
    "    left_half = merge_sort(left_half)\n",
    "    right_half = merge_sort(right_half)\n",
    "    # Merge the sorted halves\n",
    "    merged_arr = merge(left_half, right_half)\n",
    "    return merged_arr\n",
    "\n",
    "# Sample Input: [19, 12, 7, 1, 15, 6, 8, 3]\n",
    "# Expected Output: [1, 3, 6, 7, 8, 12, 15, 19]\n",
    "arr = [19, 12, 7, 1, 15, 6, 8, 3]\n",
    "sorted_arr = merge_sort(arr)\n",
    "print(\"Output: \",sorted_arr)\n"
   ]
  },
  {
   "cell_type": "code",
   "execution_count": 3,
   "id": "d8249d4e",
   "metadata": {},
   "outputs": [
    {
     "name": "stdout",
     "output_type": "stream",
     "text": [
      "Output:  [1, 2, 3, 4, 5, 6, 7, 8, 9]\n"
     ]
    }
   ],
   "source": [
    "# Q3. Implement Quick Sort\n",
    "\n",
    "def partition(arr, low, high):\n",
    "    i = low - 1\n",
    "    pivot = arr[high]\n",
    "    for j in range(low, high):\n",
    "        if arr[j] <= pivot:\n",
    "            i += 1\n",
    "            arr[i], arr[j] = arr[j], arr[i]    \n",
    "    arr[i + 1], arr[high] = arr[high], arr[i + 1]\n",
    "    return i + 1\n",
    "\n",
    "def quick_sort(arr, low, high):\n",
    "    if low < high:\n",
    "        pivot_index = partition(arr, low, high)\n",
    "        quick_sort(arr, low, pivot_index - 1)\n",
    "        quick_sort(arr, pivot_index + 1, high)\n",
    "\n",
    "# Sample Input: [9, 3, 7, 5, 6, 4, 8, 2, 1]\n",
    "# Expected Output: [1, 2, 3, 4, 5, 6, 7, 8, 9]\n",
    "arr = [9, 3, 7, 5, 6, 4, 8, 2, 1]\n",
    "quick_sort(arr, 0, len(arr) - 1)\n",
    "print(\"Output: \",arr)\n"
   ]
  },
  {
   "cell_type": "code",
   "execution_count": 4,
   "id": "92a31bde",
   "metadata": {},
   "outputs": [
    {
     "name": "stdout",
     "output_type": "stream",
     "text": [
      "Output:  [1, 2, 3, 4, 5, 6]\n"
     ]
    }
   ],
   "source": [
    "# Q4. Implement Insertion Sort\n",
    "\n",
    "def insertion_sort(arr):\n",
    "    for i in range(1, len(arr)):\n",
    "        key = arr[i]\n",
    "        j = i - 1\n",
    "        while j >= 0 and arr[j] > key:\n",
    "            arr[j + 1] = arr[j]\n",
    "            j -= 1\n",
    "        arr[j + 1] = key\n",
    "\n",
    "# Sample Input: [5, 2, 4, 6, 1, 3]\n",
    "# Expected Output: [1, 2, 3, 4, 5, 6]\n",
    "array = [5, 2, 4, 6, 1, 3]\n",
    "insertion_sort(array)\n",
    "print(\"Output: \", array)\n"
   ]
  },
  {
   "cell_type": "code",
   "execution_count": 5,
   "id": "893d3381",
   "metadata": {},
   "outputs": [
    {
     "name": "stdout",
     "output_type": "stream",
     "text": [
      "Output:  ['apple', 'banana', 'berry', 'cherry', 'date', 'fig']\n"
     ]
    }
   ],
   "source": [
    "# Q5. Write a program to sort list of strings (similar to that of dictionary)\n",
    "\n",
    "def sort_list_of_strings(lst):\n",
    "    return sorted(lst)\n",
    "\n",
    "# Sample Input: [\"berry\", \"apple\", \"cherry\", \"banana\", \"date\", \"fig\"]\n",
    "# Expected Output: ['apple', 'banana', 'berry', 'cherry', 'date', 'fig']\n",
    "my_list = [\"berry\", \"apple\", \"cherry\", \"banana\", \"date\", \"fig\"]\n",
    "sorted_list = sort_list_of_strings(my_list)\n",
    "print(\"Output: \", sorted_list)\n"
   ]
  },
  {
   "cell_type": "code",
   "execution_count": null,
   "id": "e5908072",
   "metadata": {},
   "outputs": [],
   "source": []
  },
  {
   "cell_type": "code",
   "execution_count": null,
   "id": "5286f330",
   "metadata": {},
   "outputs": [],
   "source": []
  }
 ],
 "metadata": {
  "kernelspec": {
   "display_name": "Python 3 (ipykernel)",
   "language": "python",
   "name": "python3"
  },
  "language_info": {
   "codemirror_mode": {
    "name": "ipython",
    "version": 3
   },
   "file_extension": ".py",
   "mimetype": "text/x-python",
   "name": "python",
   "nbconvert_exporter": "python",
   "pygments_lexer": "ipython3",
   "version": "3.9.13"
  }
 },
 "nbformat": 4,
 "nbformat_minor": 5
}
